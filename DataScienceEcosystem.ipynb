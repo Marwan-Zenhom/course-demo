{
 "cells": [
  {
   "cell_type": "markdown",
   "id": "d3eae1f4",
   "metadata": {},
   "source": [
    "# Data Science Tools and Ecosystem\n"
   ]
  },
  {
   "cell_type": "markdown",
   "id": "ee2873d8",
   "metadata": {},
   "source": [
    " In this notebook, Data Science Tools and Ecosystem are summarized."
   ]
  },
  {
   "cell_type": "markdown",
   "id": "2c154e27",
   "metadata": {},
   "source": [
    "# Objectives: \n",
    "- List popular languages for Data Science\n",
    "-List popular tools for Data Science\n",
    "-List popular libraries for Data Science\n",
    "- use markdown cells with diffrent heading styles\n",
    "\n"
   ]
  },
  {
   "cell_type": "markdown",
   "id": "de1803bb",
   "metadata": {},
   "source": [
    "Some of the popular languages that Data Scientists use are:"
   ]
  },
  {
   "cell_type": "markdown",
   "id": "dfca34d1",
   "metadata": {},
   "source": [
    "1. python\n",
    "2. julia\n",
    "3. scala"
   ]
  },
  {
   "cell_type": "markdown",
   "id": "0cd79a86",
   "metadata": {},
   "source": [
    "Some of the commonly used libraries used by Data Scientists include:"
   ]
  },
  {
   "cell_type": "markdown",
   "id": "77909086",
   "metadata": {},
   "source": [
    "1. numpy\n",
    "2. pandas\n",
    "3. matplotlib"
   ]
  },
  {
   "cell_type": "markdown",
   "id": "e066e361",
   "metadata": {},
   "source": [
    "|Data Science Tools|\n",
    "|------------------|\n",
    "|weka|\n",
    "|java-ML|\n",
    "|apache MLlib|"
   ]
  },
  {
   "cell_type": "markdown",
   "id": "e1768b4e",
   "metadata": {},
   "source": [
    "### Below are a few examples of evaluating arithmetic expressions in Python"
   ]
  },
  {
   "cell_type": "code",
   "execution_count": 3,
   "id": "30870f93",
   "metadata": {},
   "outputs": [
    {
     "data": {
      "text/plain": [
       "17"
      ]
     },
     "execution_count": 3,
     "metadata": {},
     "output_type": "execute_result"
    }
   ],
   "source": [
    "#This a simple arithmetic expression to mutiply then add integers\n",
    "(3*4)+5"
   ]
  },
  {
   "cell_type": "code",
   "execution_count": 4,
   "id": "02918679",
   "metadata": {},
   "outputs": [
    {
     "data": {
      "text/plain": [
       "3.3333333333333335"
      ]
     },
     "execution_count": 4,
     "metadata": {},
     "output_type": "execute_result"
    }
   ],
   "source": [
    "#This will convert 200 minutes to hours by diving by 60\n",
    "200/60"
   ]
  },
  {
   "cell_type": "markdown",
   "id": "53f000e4",
   "metadata": {},
   "source": [
    "## Author \n",
    "Marwan Amr Zenhom"
   ]
  },
  {
   "cell_type": "code",
   "execution_count": null,
   "id": "1f773b52",
   "metadata": {},
   "outputs": [],
   "source": []
  }
 ],
 "metadata": {
  "kernelspec": {
   "display_name": "Python 3 (ipykernel)",
   "language": "python",
   "name": "python3"
  },
  "language_info": {
   "codemirror_mode": {
    "name": "ipython",
    "version": 3
   },
   "file_extension": ".py",
   "mimetype": "text/x-python",
   "name": "python",
   "nbconvert_exporter": "python",
   "pygments_lexer": "ipython3",
   "version": "3.9.7"
  }
 },
 "nbformat": 4,
 "nbformat_minor": 5
}
